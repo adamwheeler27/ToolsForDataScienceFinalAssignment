{
 "cells": [
  {
   "cell_type": "markdown",
   "id": "43c42c32-597f-4fb5-a52a-f8504c25e70f",
   "metadata": {},
   "source": [
    "# Data Science Tools and Ecosystem"
   ]
  },
  {
   "cell_type": "markdown",
   "id": "67297ea4-511f-4ded-860e-6c77e9443c20",
   "metadata": {},
   "source": [
    "In this notebook, Data Science Tools and Ecosystem are summarized."
   ]
  },
  {
   "cell_type": "markdown",
   "id": "a39665f2-fbe6-4d0f-becc-4b721ff40bae",
   "metadata": {},
   "source": [
    "Some of the popular languages that Data Scientists use are:\n",
    "1. Python\n",
    "2. R\n",
    "3. Julia\n",
    "4. Java\n",
    "5. C++\n",
    "6. SQL"
   ]
  },
  {
   "cell_type": "markdown",
   "id": "d09743c5-ee52-4aaa-a67f-06f3b0847f52",
   "metadata": {},
   "source": [
    "Some of the commonly used libraries used by Data Scientists include:\n",
    "1. NumPy\n",
    "2. Pandas\n",
    "3. Matplotlib\n",
    "4. Scikit-learn"
   ]
  },
  {
   "cell_type": "markdown",
   "id": "e2640909-9c0f-4533-bfcb-2fa093910d1d",
   "metadata": {},
   "source": [
    "| Data science tools |\n",
    "| ------------------ |\n",
    "| Git |\n",
    "| Apache Spark |\n",
    "| TensorFlow |"
   ]
  },
  {
   "cell_type": "markdown",
   "id": "21e3ab03-2872-4b73-928c-86d6b4cb4d6a",
   "metadata": {},
   "source": [
    "### Below are a few examples of evaluating arithmetic expressions in Python"
   ]
  },
  {
   "cell_type": "code",
   "execution_count": 33,
   "id": "102fb980-5d49-4fe7-91d9-b5a717440a9c",
   "metadata": {},
   "outputs": [
    {
     "data": {
      "text/plain": [
       "17"
      ]
     },
     "execution_count": 33,
     "metadata": {},
     "output_type": "execute_result"
    }
   ],
   "source": [
    "#This a simple arithmetic expression to mutiply then add integers\n",
    "(3*4)+5"
   ]
  },
  {
   "cell_type": "code",
   "execution_count": 34,
   "id": "aed6d4cc-d51e-444d-aa3a-03e19d1a77ed",
   "metadata": {},
   "outputs": [
    {
     "data": {
      "text/plain": [
       "3.3333333333333335"
      ]
     },
     "execution_count": 34,
     "metadata": {},
     "output_type": "execute_result"
    }
   ],
   "source": [
    "#This will convert 200 minutes to hours by diving by 60\n",
    "200/60"
   ]
  },
  {
   "cell_type": "markdown",
   "id": "7b402c51-1128-466b-b3be-18d09222aa0f",
   "metadata": {},
   "source": [
    "**Objectives:**\n",
    "- List some of the popular languages that data scientists use.\n",
    "- List some of the popular libraries that data scientists use.\n",
    "- List some of the popular tools that data scientists use.\n",
    "- Show some examples of evaluating arithmetic expressions in Jupyter Notebook."
   ]
  },
  {
   "cell_type": "markdown",
   "id": "37b89c89-ee31-4927-a470-6fe66f3fc618",
   "metadata": {},
   "source": [
    "## Author\n",
    "Adam Wheeler"
   ]
  },
  {
   "cell_type": "code",
   "execution_count": null,
   "id": "a01607e3-2d3c-43ed-ab4e-fbc8ad81a83d",
   "metadata": {},
   "outputs": [],
   "source": []
  }
 ],
 "metadata": {
  "kernelspec": {
   "display_name": "Python 3 (ipykernel)",
   "language": "python",
   "name": "python3"
  },
  "language_info": {
   "codemirror_mode": {
    "name": "ipython",
    "version": 3
   },
   "file_extension": ".py",
   "mimetype": "text/x-python",
   "name": "python",
   "nbconvert_exporter": "python",
   "pygments_lexer": "ipython3",
   "version": "3.11.7"
  }
 },
 "nbformat": 4,
 "nbformat_minor": 5
}
